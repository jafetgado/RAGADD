{
 "cells": [
  {
   "cell_type": "markdown",
   "metadata": {},
   "source": [
    "# Generate RAG responses"
   ]
  },
  {
   "cell_type": "markdown",
   "metadata": {},
   "source": [
    "## Imports"
   ]
  },
  {
   "cell_type": "code",
   "execution_count": 1,
   "metadata": {},
   "outputs": [],
   "source": [
    "import numpy as np\n",
    "import pandas as pd\n",
    "import matplotlib.pyplot as plt\n",
    "\n",
    "import os\n",
    "import joblib\n",
    "from dotenv import load_dotenv\n",
    "import warnings\n",
    "warnings.filterwarnings('ignore')\n",
    "\n",
    "import evaluate\n",
    "import bert_score\n",
    "\n",
    "from langchain_openai import OpenAIEmbeddings, ChatOpenAI\n",
    "from langchain.vectorstores import FAISS\n",
    "from langchain_core.runnables import RunnableLambda\n",
    "from langchain.prompts import ChatPromptTemplate, SystemMessagePromptTemplate, HumanMessagePromptTemplate\n",
    "\n"
   ]
  },
  {
   "cell_type": "code",
   "execution_count": 2,
   "metadata": {},
   "outputs": [
    {
     "name": "stdout",
     "output_type": "stream",
     "text": [
      "API key loaded: sk-proj-Hw...\n"
     ]
    }
   ],
   "source": [
    "# Load OpenAI API from .env file\n",
    "load_dotenv(dotenv_path='./api.env') # Change this to your .env file\n",
    "print(f\"API key loaded: {os.getenv('OPENAI_API_KEY')[:10]}...\")"
   ]
  },
  {
   "cell_type": "markdown",
   "metadata": {},
   "source": [
    "## Functions for generation"
   ]
  },
  {
   "cell_type": "code",
   "execution_count": 3,
   "metadata": {},
   "outputs": [],
   "source": [
    "def run_zeroshot_prediction(model_name='gpt-3.5-turbo', questions=[], temperature=0, top_p=1.0):\n",
    "\n",
    "    # Build a chain for zero-shot prediction with GPT-3.5-turbo\n",
    "    model = ChatOpenAI(model=model_name, temperature=0, top_p=top_p)\n",
    "\n",
    "    system_prompt = \"\"\"\n",
    "    You are a helpful assistant that provides concise answers questions patients have about ADHD medication\n",
    "    \"\"\"\n",
    "\n",
    "    user_prompt = \"\"\"\n",
    "    Answer the question provided below.\n",
    "    Your answer should be a few sentences and be concise.\n",
    "\n",
    "    Here is an example of how you should answer:\n",
    "\n",
    "    Question: What changes typically occur in a child’s mood or energy after starting Intuniv?\n",
    "    Answer: After starting Intuniv, children often experience increased calmness, reduced impulsivity, and better sleep. However, some also show decreased energy, fatigue, irritability, or emotional flatness. Responses vary depending on the dosage and individual sensitivity.\n",
    "\n",
    "    Use this style in your own answers.\n",
    "\n",
    "    Question: {question}\n",
    "    \"\"\"\n",
    "\n",
    "    #  Prompt template\n",
    "    prompt = ChatPromptTemplate.from_messages([\n",
    "        SystemMessagePromptTemplate.from_template(system_prompt),\n",
    "        HumanMessagePromptTemplate.from_template(user_prompt)\n",
    "    ])\n",
    "\n",
    "    # Chain\n",
    "    chain = (\n",
    "        {\"question\": lambda x: x}  # passthrough identity for each input question\n",
    "        | prompt\n",
    "        | model\n",
    "        | (lambda m: m.content)  # extract .content from AIMessage list\n",
    "    )\n",
    "    # Run the GPT-3.5-turbo pipeline over the questions\n",
    "    responses = chain.batch(questions)\n",
    "\n",
    "    # Text from responses\n",
    "    gentext = [item.split('Answer: ')[-1] for item in responses]\n",
    "    \n",
    "    return gentext\n"
   ]
  },
  {
   "cell_type": "code",
   "execution_count": 4,
   "metadata": {},
   "outputs": [],
   "source": [
    "# Functions to run RAG with specified embeddings and vector stores\n",
    "\n",
    "def build_RAG_chain(model_name='gpt-3.5-turbo', temperature=0, top_p=1):\n",
    "    \"\"\"Return a LangChain pipeline for RAG generation\"\"\"\n",
    "\n",
    "    system_prompt = \"\"\"\n",
    "    You are a helpful assistant that provides concise, evidence-based answers to user questions based on patient-provided documents.\n",
    "    Your goal is to summarize real experiences with medical treatments as described in the text.\n",
    "\n",
    "    \"\"\"\n",
    "\n",
    "    user_prompt = \"\"\"\n",
    "    Based on the patient review document attached, answer the following question using only information found directly in the document. \n",
    "    Your answer should be a few sentences and be concise.\n",
    "    Avoid speculation, generalizations, or added interpretation. Focus only on what patients actually report.\n",
    "\n",
    "    Here is an example of how you should answer:\n",
    "\n",
    "    Question: What changes typically occur in a child’s mood or energy after starting Intuniv?\n",
    "    Answer: After starting Intuniv, children often experience increased calmness, reduced impulsivity, and better sleep. However, some also show decreased energy, fatigue, irritability, or emotional flatness. Responses vary depending on the dosage and individual sensitivity.\n",
    "\n",
    "    Use this style in your own answers.\n",
    "\n",
    "    Question: {question}\n",
    "\n",
    "    --- BEGIN DOCUMENT ---\n",
    "    {document_text}\n",
    "    --- END DOCUMENT ---\n",
    "    \"\"\"\n",
    "\n",
    "    # Build prompt\n",
    "    prompt = ChatPromptTemplate.from_messages([\n",
    "        SystemMessagePromptTemplate.from_template(system_prompt),\n",
    "        HumanMessagePromptTemplate.from_template(user_prompt)\n",
    "    ])\n",
    "    \n",
    "    # Model and chain\n",
    "    model = ChatOpenAI(model=model_name, temperature=temperature, top_p=top_p)\n",
    "    chain = (\n",
    "        #lambda x: {'question': x[\"question\"], 'document_text': x['document_text']}\n",
    "        RunnableLambda(lambda x: {'question': x[\"question\"], 'document_text': x['document_text']})\n",
    "        | prompt\n",
    "        | model\n",
    "        | (lambda m: m.content)  # extract .content from AIMessage list\n",
    "    )\n",
    "    return chain\n",
    "\n",
    "\n",
    "\n",
    "\n",
    "def run_rag_chain(model_name, temperature, top_p, vectorstore, questions, rag_k=4):\n",
    "    \"\"\"Run a RAG chain over a list of questions using the specified model and vectorstore, returning the generated responses.\"\"\"\n",
    "\n",
    "    chain = build_RAG_chain(model_name=model_name, temperature=temperature, \n",
    "                            top_p=top_p)\n",
    "    responses = []\n",
    "    for question in questions:\n",
    "        document_text = vectorstore.similarity_search(query=question, k=rag_k)\n",
    "        document_text = \"\\n\".join([item.page_content for item in document_text])\n",
    "        response = chain.invoke({'question': question, 'document_text': document_text})\n",
    "        responses.append(response)\n",
    "\n",
    "    return responses\n",
    "\n",
    "\n",
    "\n",
    "\n",
    "def evaluate_rag_model(model_name, vectorstore_path, embedding, questions, references, rag_k=5, \n",
    "                       temperature=0, top_p=1):\n",
    "    \"\"\"Runs the RAG pipeline with a specified model and embedding to generate answers and \n",
    "    compute performance metrics.\"\"\"\n",
    "\n",
    "    vectorstore = FAISS.load_local(\n",
    "        vectorstore_path, \n",
    "        embeddings=embedding, \n",
    "        allow_dangerous_deserialization=True\n",
    "        )\n",
    "    responses = run_rag_chain(\n",
    "        model_name=model_name, \n",
    "        vectorstore=vectorstore, \n",
    "        questions=questions, \n",
    "        temperature=temperature, \n",
    "        top_p=top_p,\n",
    "        rag_k=rag_k)\n",
    "    answers = [r.split('\\nAnswer: ')[-1] for r in responses]\n",
    "    results = compute_performance(references=references, candidates=answers)\n",
    "    \n",
    "    return answers, results\n",
    "\n",
    "\n",
    "def compute_performance(references, candidates):\n",
    "    \"\"\"Return a dictionary of Rouge and BERTScore metrics evaluating quality of a list \n",
    "    of generated candidates relative to a corresponding list of references\"\"\"\n",
    "    \n",
    "    rouge = evaluate.load('rouge')\n",
    "    results = rouge.compute(predictions=candidates, references=references)\n",
    "    bscores = bert_score.score(cands=candidates, refs=references, lang='en', \n",
    "                               model_type='bert-base-uncased', rescale_with_baseline=True)\n",
    "    bscores = np.asarray([item.numpy() for item in bscores]).mean(axis=-1) # Average over all samples\n",
    "    results.update(dict(zip(['bertscore_precision', 'bertscore_recall', 'bertscore_f1'], bscores)))\n",
    "    \n",
    "    return results\n",
    "    "
   ]
  },
  {
   "cell_type": "markdown",
   "metadata": {},
   "source": [
    "## Run zero-shot"
   ]
  },
  {
   "cell_type": "code",
   "execution_count": 5,
   "metadata": {},
   "outputs": [],
   "source": [
    "# Dictionary to store results\n",
    "STORE = {}"
   ]
  },
  {
   "cell_type": "code",
   "execution_count": 6,
   "metadata": {},
   "outputs": [],
   "source": [
    "# Fetch data\n",
    "testdata = pd.read_csv('data/test_data.csv', index_col=None)\n",
    "questions = testdata['QUESTIONS'].tolist()\n",
    "answers = testdata['ANSWERS'].tolist()"
   ]
  },
  {
   "cell_type": "code",
   "execution_count": 21,
   "metadata": {},
   "outputs": [],
   "source": [
    "# Zero-shot with GPT-3.5\n",
    "responses = run_zeroshot_prediction(model_name='gpt-3.5-turbo', temperature=0.25, top_p=1, \n",
    "                                    questions=questions)\n",
    "\n",
    "# Save generated text\n",
    "with open(\"data/responses/test-data/gpt-3.5-test-zeroshot.txt\", 'w') as f:\n",
    "    for item in responses:\n",
    "        f.write(item + '\\n\\n')\n",
    "\n",
    "# Compute performance\n",
    "results = compute_performance(references=answers, candidates=responses)\n",
    "STORE['gpt-3.5-zeroshot'] = results"
   ]
  },
  {
   "cell_type": "code",
   "execution_count": 22,
   "metadata": {},
   "outputs": [],
   "source": [
    "# Zero-shot with GPT-4o\n",
    "responses = run_zeroshot_prediction(model_name='gpt-4o', temperature=0.25, top_p=1, \n",
    "                                    questions=questions)\n",
    "\n",
    "# Save generated text\n",
    "with open(\"data/responses/test-data/gpt-4o-test-zeroshot.txt\", 'w') as f:\n",
    "    for item in responses:\n",
    "        f.write(item + '\\n\\n')\n",
    "\n",
    "# Compute performance\n",
    "results = compute_performance(references=answers, candidates=responses)\n",
    "STORE['gpt-4o-zeroshot'] = results"
   ]
  },
  {
   "cell_type": "code",
   "execution_count": 23,
   "metadata": {},
   "outputs": [
    {
     "data": {
      "text/html": [
       "<div>\n",
       "<style scoped>\n",
       "    .dataframe tbody tr th:only-of-type {\n",
       "        vertical-align: middle;\n",
       "    }\n",
       "\n",
       "    .dataframe tbody tr th {\n",
       "        vertical-align: top;\n",
       "    }\n",
       "\n",
       "    .dataframe thead th {\n",
       "        text-align: right;\n",
       "    }\n",
       "</style>\n",
       "<table border=\"1\" class=\"dataframe\">\n",
       "  <thead>\n",
       "    <tr style=\"text-align: right;\">\n",
       "      <th></th>\n",
       "      <th>rouge1</th>\n",
       "      <th>rouge2</th>\n",
       "      <th>rougeL</th>\n",
       "      <th>rougeLsum</th>\n",
       "      <th>bertscore_precision</th>\n",
       "      <th>bertscore_recall</th>\n",
       "      <th>bertscore_f1</th>\n",
       "    </tr>\n",
       "  </thead>\n",
       "  <tbody>\n",
       "    <tr>\n",
       "      <th>gpt-3.5-RAG</th>\n",
       "      <td>0.358602</td>\n",
       "      <td>0.103362</td>\n",
       "      <td>0.226566</td>\n",
       "      <td>0.226559</td>\n",
       "      <td>0.520008</td>\n",
       "      <td>0.485802</td>\n",
       "      <td>0.502868</td>\n",
       "    </tr>\n",
       "    <tr>\n",
       "      <th>gpt-3.5-zeroshot</th>\n",
       "      <td>0.325382</td>\n",
       "      <td>0.116079</td>\n",
       "      <td>0.223603</td>\n",
       "      <td>0.223681</td>\n",
       "      <td>0.493146</td>\n",
       "      <td>0.416614</td>\n",
       "      <td>0.453661</td>\n",
       "    </tr>\n",
       "    <tr>\n",
       "      <th>gpt-4o-zeroshot</th>\n",
       "      <td>0.361135</td>\n",
       "      <td>0.121577</td>\n",
       "      <td>0.242720</td>\n",
       "      <td>0.243154</td>\n",
       "      <td>0.496800</td>\n",
       "      <td>0.478077</td>\n",
       "      <td>0.487848</td>\n",
       "    </tr>\n",
       "  </tbody>\n",
       "</table>\n",
       "</div>"
      ],
      "text/plain": [
       "                    rouge1    rouge2    rougeL  rougeLsum  \\\n",
       "gpt-3.5-RAG       0.358602  0.103362  0.226566   0.226559   \n",
       "gpt-3.5-zeroshot  0.325382  0.116079  0.223603   0.223681   \n",
       "gpt-4o-zeroshot   0.361135  0.121577  0.242720   0.243154   \n",
       "\n",
       "                  bertscore_precision  bertscore_recall  bertscore_f1  \n",
       "gpt-3.5-RAG                  0.520008          0.485802      0.502868  \n",
       "gpt-3.5-zeroshot             0.493146          0.416614      0.453661  \n",
       "gpt-4o-zeroshot              0.496800          0.478077      0.487848  "
      ]
     },
     "execution_count": 23,
     "metadata": {},
     "output_type": "execute_result"
    }
   ],
   "source": [
    "# View zero-shot performance\n",
    "df = pd.DataFrame(STORE).transpose()\n",
    "df"
   ]
  },
  {
   "cell_type": "markdown",
   "metadata": {},
   "source": [
    "## Run RAG on full test data with optimal hyperparameters"
   ]
  },
  {
   "cell_type": "code",
   "execution_count": 41,
   "metadata": {},
   "outputs": [],
   "source": [
    "# Run RAG on full test data with optimal hyperparameters\n",
    "\n",
    "# Hyperparameters\n",
    "embedding_name = 'text-embedding-3-large'\n",
    "embedding = OpenAIEmbeddings(model=embedding_name, show_progress_bar=False)            \n",
    "k = 15\n",
    "temperature = 0.25\n",
    "top_p = 1.0\n",
    "\n",
    "# Run rag\n",
    "responses, results = evaluate_rag_model(\n",
    "    model_name='gpt-3.5-turbo', # Generative model\n",
    "    vectorstore_path=f'data/vector-stores/{embedding_name}-dotP',\n",
    "    embedding=embedding,\n",
    "    questions=questions,\n",
    "    references=answers,\n",
    "    rag_k=k, \n",
    "    temperature=temperature, \n",
    "    top_p=top_p\n",
    "    )\n",
    "responses = [item.split('Answer: ')[-1] for item in responses]\n",
    "\n",
    "# Save responses\n",
    "with open(f\"data/responses/test-data/gpt-3.5-RAG.txt\", 'w') as f:\n",
    "    for item in responses:\n",
    "        f.write(item + '\\n\\n')    \n",
    "\n",
    "# Store results\n",
    "STORE[\"gpt-3.5-RAG\"] = results\n"
   ]
  },
  {
   "cell_type": "code",
   "execution_count": 42,
   "metadata": {},
   "outputs": [
    {
     "data": {
      "text/html": [
       "<div>\n",
       "<style scoped>\n",
       "    .dataframe tbody tr th:only-of-type {\n",
       "        vertical-align: middle;\n",
       "    }\n",
       "\n",
       "    .dataframe tbody tr th {\n",
       "        vertical-align: top;\n",
       "    }\n",
       "\n",
       "    .dataframe thead th {\n",
       "        text-align: right;\n",
       "    }\n",
       "</style>\n",
       "<table border=\"1\" class=\"dataframe\">\n",
       "  <thead>\n",
       "    <tr style=\"text-align: right;\">\n",
       "      <th></th>\n",
       "      <th>rouge1</th>\n",
       "      <th>rouge2</th>\n",
       "      <th>rougeL</th>\n",
       "      <th>rougeLsum</th>\n",
       "      <th>bertscore_precision</th>\n",
       "      <th>bertscore_recall</th>\n",
       "      <th>bertscore_f1</th>\n",
       "    </tr>\n",
       "  </thead>\n",
       "  <tbody>\n",
       "    <tr>\n",
       "      <th>gpt-3.5-RAG</th>\n",
       "      <td>0.363274</td>\n",
       "      <td>0.105933</td>\n",
       "      <td>0.228388</td>\n",
       "      <td>0.228705</td>\n",
       "      <td>0.521517</td>\n",
       "      <td>0.490406</td>\n",
       "      <td>0.506286</td>\n",
       "    </tr>\n",
       "    <tr>\n",
       "      <th>gpt-3.5-zeroshot</th>\n",
       "      <td>0.325382</td>\n",
       "      <td>0.116079</td>\n",
       "      <td>0.223603</td>\n",
       "      <td>0.223681</td>\n",
       "      <td>0.493146</td>\n",
       "      <td>0.416614</td>\n",
       "      <td>0.453661</td>\n",
       "    </tr>\n",
       "    <tr>\n",
       "      <th>gpt-4o-zeroshot</th>\n",
       "      <td>0.361135</td>\n",
       "      <td>0.121577</td>\n",
       "      <td>0.242720</td>\n",
       "      <td>0.243154</td>\n",
       "      <td>0.496800</td>\n",
       "      <td>0.478077</td>\n",
       "      <td>0.487848</td>\n",
       "    </tr>\n",
       "  </tbody>\n",
       "</table>\n",
       "</div>"
      ],
      "text/plain": [
       "                    rouge1    rouge2    rougeL  rougeLsum  \\\n",
       "gpt-3.5-RAG       0.363274  0.105933  0.228388   0.228705   \n",
       "gpt-3.5-zeroshot  0.325382  0.116079  0.223603   0.223681   \n",
       "gpt-4o-zeroshot   0.361135  0.121577  0.242720   0.243154   \n",
       "\n",
       "                  bertscore_precision  bertscore_recall  bertscore_f1  \n",
       "gpt-3.5-RAG                  0.521517          0.490406      0.506286  \n",
       "gpt-3.5-zeroshot             0.493146          0.416614      0.453661  \n",
       "gpt-4o-zeroshot              0.496800          0.478077      0.487848  "
      ]
     },
     "execution_count": 42,
     "metadata": {},
     "output_type": "execute_result"
    }
   ],
   "source": [
    "# View performance\n",
    "joblib.dump(STORE, 'data/test-results-store.pkl')\n",
    "df = pd.DataFrame(STORE).transpose()\n",
    "df"
   ]
  },
  {
   "cell_type": "code",
   "execution_count": 44,
   "metadata": {},
   "outputs": [
    {
     "data": {
      "image/png": "[encoded data removed]",
      "text/plain": [
       "<Figure size 400x300 with 1 Axes>"
      ]
     },
     "metadata": {},
     "output_type": "display_data"
    }
   ],
   "source": [
    "# Plot results as bar graph\n",
    "dfsel = df.loc[:,'bertscore_f1'].sort_values()\n",
    "y = dfsel.values\n",
    "plt.figure(figsize=(4,3))\n",
    "plt.barh(range(len(y)), y)\n",
    "plt.yticks(range(len(y)), dfsel.index);\n",
    "plt.xlabel('BERTScore (F1)');\n",
    "for i, val in enumerate(y):\n",
    "    plt.text(val + 0.002, i, f'{val:.3f}', va='center', fontsize=9)\n",
    "plt.xlim((0.35,0.535));"
   ]
  },
  {
   "cell_type": "markdown",
   "metadata": {},
   "source": [
    "## Compare an example response"
   ]
  },
  {
   "cell_type": "code",
   "execution_count": 45,
   "metadata": {},
   "outputs": [
    {
     "data": {
      "text/plain": [
       "'How do ADHD medications affect gut health?'"
      ]
     },
     "execution_count": 45,
     "metadata": {},
     "output_type": "execute_result"
    }
   ],
   "source": [
    "# Question\n",
    "questions[-2]"
   ]
  },
  {
   "cell_type": "code",
   "execution_count": 46,
   "metadata": {},
   "outputs": [
    {
     "data": {
      "text/plain": [
       "\"ADHD medications can sometimes cause gastrointestinal side effects such as stomach upset, nausea, or decreased appetite. However, there is limited evidence to suggest a direct impact on gut health. It's important to discuss any concerns with your healthcare provider.\""
      ]
     },
     "execution_count": 46,
     "metadata": {},
     "output_type": "execute_result"
    }
   ],
   "source": [
    "# GPT 3.5 zero-shot\n",
    "file = 'data/responses/test-data/gpt-3.5-test-zeroshot.txt'\n",
    "with open(file, 'r') as f:\n",
    "    text = f.read().strip().split('\\n\\n')\n",
    "text[-2]\n"
   ]
  },
  {
   "cell_type": "code",
   "execution_count": 47,
   "metadata": {},
   "outputs": [
    {
     "data": {
      "text/plain": [
       "\"ADHD medications, particularly stimulants like methylphenidate and amphetamines, can affect gut health by causing side effects such as reduced appetite, stomach pain, nausea, or constipation. These effects are generally mild and temporary, but they can vary based on the individual and the specific medication. Non-stimulant medications may have different gastrointestinal side effects, and it's important to monitor any changes and discuss them with a healthcare provider.\""
      ]
     },
     "execution_count": 47,
     "metadata": {},
     "output_type": "execute_result"
    }
   ],
   "source": [
    "# GPT-4o zero-shot\n",
    "file = 'data/responses/test-data/gpt-4o-test-zeroshot.txt'\n",
    "with open(file, 'r') as f:\n",
    "    text = f.read().strip().split('\\n\\n')\n",
    "text[-2]"
   ]
  },
  {
   "cell_type": "code",
   "execution_count": 48,
   "metadata": {},
   "outputs": [
    {
     "data": {
      "text/plain": [
       "'Some ADHD medications, such as Methylphenidate and Dexmethylphenidate, have been reported to cause side effects like diarrhea. Additionally, Strattera has been mentioned to cause constipation in some individuals. These gastrointestinal effects may vary among patients using these medications.'"
      ]
     },
     "execution_count": 48,
     "metadata": {},
     "output_type": "execute_result"
    }
   ],
   "source": [
    "# GPT-3.5 with RAG\n",
    "file = 'data/responses/test-data/gpt-3.5-RAG.txt'\n",
    "with open(file, 'r') as f:\n",
    "    text = f.read().strip().split('\\n\\n')\n",
    "text[-2]\n"
   ]
  },
  {
   "cell_type": "code",
   "execution_count": 49,
   "metadata": {},
   "outputs": [
    {
     "name": "stdout",
     "output_type": "stream",
     "text": [
      "Patients report several gastrointestinal side effects from ADHD medications. Some individuals experienced nausea, diarrhea, constipation, and appetite loss. A few also mentioned weight loss associated with reduced food intake. One patient reported digestive discomfort linked to specific pill binders. Another noted that methylphenidate helped regulate their digestive tract. These effects vary by medication and individual.\n"
     ]
    }
   ],
   "source": [
    "# Ground truth (GPT-4o with all documents in context)\n",
    "print(answers[-2])"
   ]
  }
 ],
 "metadata": {
  "kernelspec": {
   "display_name": "Python 3",
   "language": "python",
   "name": "python3"
  },
  "language_info": {
   "codemirror_mode": {
    "name": "ipython",
    "version": 3
   },
   "file_extension": ".py",
   "mimetype": "text/x-python",
   "name": "python",
   "nbconvert_exporter": "python",
   "pygments_lexer": "ipython3",
   "version": "3.10.18"
  }
 },
 "nbformat": 4,
 "nbformat_minor": 2
}
