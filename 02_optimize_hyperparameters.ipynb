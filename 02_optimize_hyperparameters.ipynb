{
 "cells": [
  {
   "cell_type": "markdown",
   "metadata": {},
   "source": [
    "# Optimize hyperparameters"
   ]
  },
  {
   "cell_type": "markdown",
   "metadata": {},
   "source": [
    "## Imports"
   ]
  },
  {
   "cell_type": "code",
   "execution_count": 105,
   "metadata": {},
   "outputs": [],
   "source": [
    "import numpy as np\n",
    "import pandas as pd\n",
    "import matplotlib.pyplot as plt\n",
    "import seaborn as sns\n",
    "\n",
    "\n",
    "import os\n",
    "import joblib\n",
    "from tqdm import tqdm\n",
    "import time\n",
    "from dotenv import load_dotenv\n",
    "import warnings\n",
    "warnings.filterwarnings('ignore')\n",
    "\n",
    "from sklearn.cluster import KMeans\n",
    "from sklearn.metrics import pairwise_distances_argmin_min\n",
    "import torch\n",
    "\n",
    "from transformers import AutoTokenizer, AutoModel\n",
    "import evaluate\n",
    "import bert_score\n",
    "\n",
    "import faiss\n",
    "from langchain.docstore.document import Document\n",
    "from langchain_openai import OpenAIEmbeddings, ChatOpenAI\n",
    "#from langchain.chat_models import ChatOpenAI\n",
    "from langchain.vectorstores import FAISS\n",
    "from langchain_core.runnables import RunnableLambda\n",
    "from langchain.prompts import ChatPromptTemplate, SystemMessagePromptTemplate, HumanMessagePromptTemplate\n",
    "from langchain.embeddings.base import Embeddings\n",
    "\n"
   ]
  },
  {
   "cell_type": "code",
   "execution_count": 2,
   "metadata": {},
   "outputs": [
    {
     "name": "stdout",
     "output_type": "stream",
     "text": [
      "API key loaded: sk-proj-Hw...\n"
     ]
    }
   ],
   "source": [
    "# Load OpenAI API from .env file\n",
    "load_dotenv(dotenv_path='./api.env') # Change this to your .env file\n",
    "print(f\"API key loaded: {os.getenv('OPENAI_API_KEY')[:10]}...\")"
   ]
  },
  {
   "cell_type": "markdown",
   "metadata": {},
   "source": [
    "## Select 10 QA pairs for hyperparameter optimization"
   ]
  },
  {
   "cell_type": "code",
   "execution_count": 42,
   "metadata": {},
   "outputs": [
    {
     "data": {
      "text/html": [
       "<div>\n",
       "<style scoped>\n",
       "    .dataframe tbody tr th:only-of-type {\n",
       "        vertical-align: middle;\n",
       "    }\n",
       "\n",
       "    .dataframe tbody tr th {\n",
       "        vertical-align: top;\n",
       "    }\n",
       "\n",
       "    .dataframe thead th {\n",
       "        text-align: right;\n",
       "    }\n",
       "</style>\n",
       "<table border=\"1\" class=\"dataframe\">\n",
       "  <thead>\n",
       "    <tr style=\"text-align: right;\">\n",
       "      <th></th>\n",
       "      <th>QUESTIONS</th>\n",
       "      <th>ANSWERS</th>\n",
       "    </tr>\n",
       "  </thead>\n",
       "  <tbody>\n",
       "    <tr>\n",
       "      <th>0</th>\n",
       "      <td>What changes typically occur in a child’s mood...</td>\n",
       "      <td>After starting Intuniv, children often experie...</td>\n",
       "    </tr>\n",
       "    <tr>\n",
       "      <th>1</th>\n",
       "      <td>How does school performance tend to improve or...</td>\n",
       "      <td>After switching to Daytrana, some parents repo...</td>\n",
       "    </tr>\n",
       "    <tr>\n",
       "      <th>2</th>\n",
       "      <td>What are the most commonly observed side effec...</td>\n",
       "      <td>When increasing the Intuniv dosage, commonly o...</td>\n",
       "    </tr>\n",
       "    <tr>\n",
       "      <th>3</th>\n",
       "      <td>How are sleep disturbances caused by ADHD medi...</td>\n",
       "      <td>Sleep disturbances from medications like Daytr...</td>\n",
       "    </tr>\n",
       "    <tr>\n",
       "      <th>4</th>\n",
       "      <td>What impact does Vyvanse have on social confid...</td>\n",
       "      <td>Patients report that Vyvanse often increases s...</td>\n",
       "    </tr>\n",
       "  </tbody>\n",
       "</table>\n",
       "</div>"
      ],
      "text/plain": [
       "                                           QUESTIONS  \\\n",
       "0  What changes typically occur in a child’s mood...   \n",
       "1  How does school performance tend to improve or...   \n",
       "2  What are the most commonly observed side effec...   \n",
       "3  How are sleep disturbances caused by ADHD medi...   \n",
       "4  What impact does Vyvanse have on social confid...   \n",
       "\n",
       "                                             ANSWERS  \n",
       "0  After starting Intuniv, children often experie...  \n",
       "1  After switching to Daytrana, some parents repo...  \n",
       "2  When increasing the Intuniv dosage, commonly o...  \n",
       "3  Sleep disturbances from medications like Daytr...  \n",
       "4  Patients report that Vyvanse often increases s...  "
      ]
     },
     "execution_count": 42,
     "metadata": {},
     "output_type": "execute_result"
    }
   ],
   "source": [
    "# Load QA evaluation data\n",
    "testdata = pd.read_csv('data/test_data.csv', index_col=None)\n",
    "testdata.head()"
   ]
  },
  {
   "cell_type": "code",
   "execution_count": 43,
   "metadata": {},
   "outputs": [
    {
     "name": "stderr",
     "output_type": "stream",
     "text": [
      "\n",
      "\u001b[A\n",
      "100%|██████████| 1/1 [00:00<00:00,  1.37it/s]"
     ]
    },
    {
     "name": "stdout",
     "output_type": "stream",
     "text": [
      "(50, 1536)\n"
     ]
    },
    {
     "name": "stderr",
     "output_type": "stream",
     "text": [
      "\n"
     ]
    }
   ],
   "source": [
    "# Embed evaluation questions\n",
    "embedding = OpenAIEmbeddings(\n",
    "    model=\"text-embedding-3-small\",  # or \"text-embedding-3-large\"\n",
    "    show_progress_bar=True\n",
    ")\n",
    "embs = embedding.embed_documents(testdata['QUESTIONS'].values)\n",
    "embs = np.asarray(embs)\n",
    "print(embs.shape)"
   ]
  },
  {
   "cell_type": "code",
   "execution_count": 44,
   "metadata": {},
   "outputs": [
    {
     "name": "stderr",
     "output_type": "stream",
     "text": [
      "huggingface/tokenizers: The current process just got forked, after parallelism has already been used. Disabling parallelism to avoid deadlocks...\n",
      "To disable this warning, you can either:\n",
      "\t- Avoid using `tokenizers` before the fork if possible\n",
      "\t- Explicitly set the environment variable TOKENIZERS_PARALLELISM=(true | false)\n"
     ]
    },
    {
     "data": {
      "text/html": [
       "<div>\n",
       "<style scoped>\n",
       "    .dataframe tbody tr th:only-of-type {\n",
       "        vertical-align: middle;\n",
       "    }\n",
       "\n",
       "    .dataframe tbody tr th {\n",
       "        vertical-align: top;\n",
       "    }\n",
       "\n",
       "    .dataframe thead th {\n",
       "        text-align: right;\n",
       "    }\n",
       "</style>\n",
       "<table border=\"1\" class=\"dataframe\">\n",
       "  <thead>\n",
       "    <tr style=\"text-align: right;\">\n",
       "      <th></th>\n",
       "      <th>QUESTIONS</th>\n",
       "      <th>ANSWERS</th>\n",
       "    </tr>\n",
       "  </thead>\n",
       "  <tbody>\n",
       "    <tr>\n",
       "      <th>6</th>\n",
       "      <td>How do Concerta and Adderall compare in terms ...</td>\n",
       "      <td>Patients report that both Concerta and Adderal...</td>\n",
       "    </tr>\n",
       "    <tr>\n",
       "      <th>12</th>\n",
       "      <td>How do personality changes present during trea...</td>\n",
       "      <td>During treatment with Guanfacine or Intuniv, p...</td>\n",
       "    </tr>\n",
       "    <tr>\n",
       "      <th>15</th>\n",
       "      <td>How does libido or sexual desire tend to chang...</td>\n",
       "      <td>Patients report that stimulant medications lik...</td>\n",
       "    </tr>\n",
       "    <tr>\n",
       "      <th>19</th>\n",
       "      <td>What effects do ADHD medications have on emoti...</td>\n",
       "      <td>ADHD medications have varied effects on emotio...</td>\n",
       "    </tr>\n",
       "    <tr>\n",
       "      <th>22</th>\n",
       "      <td>How is the emotional \"crash\" from ADHD medicat...</td>\n",
       "      <td>Patients often describe the emotional \"crash\" ...</td>\n",
       "    </tr>\n",
       "    <tr>\n",
       "      <th>27</th>\n",
       "      <td>What are the key differences between immediate...</td>\n",
       "      <td>Patients report that immediate-release (IR) AD...</td>\n",
       "    </tr>\n",
       "    <tr>\n",
       "      <th>30</th>\n",
       "      <td>What side effects are most difficult to manage...</td>\n",
       "      <td>Patients most frequently report excessive tire...</td>\n",
       "    </tr>\n",
       "    <tr>\n",
       "      <th>31</th>\n",
       "      <td>How does a patch-based medication like Daytran...</td>\n",
       "      <td>Patients report that Daytrana, a patch-based m...</td>\n",
       "    </tr>\n",
       "    <tr>\n",
       "      <th>37</th>\n",
       "      <td>What long-term side effects emerge after exten...</td>\n",
       "      <td>Patients report several long-term side effects...</td>\n",
       "    </tr>\n",
       "    <tr>\n",
       "      <th>39</th>\n",
       "      <td>How frequently does dosage need to be increase...</td>\n",
       "      <td>Dosage increases are sometimes required when e...</td>\n",
       "    </tr>\n",
       "  </tbody>\n",
       "</table>\n",
       "</div>"
      ],
      "text/plain": [
       "                                            QUESTIONS  \\\n",
       "6   How do Concerta and Adderall compare in terms ...   \n",
       "12  How do personality changes present during trea...   \n",
       "15  How does libido or sexual desire tend to chang...   \n",
       "19  What effects do ADHD medications have on emoti...   \n",
       "22  How is the emotional \"crash\" from ADHD medicat...   \n",
       "27  What are the key differences between immediate...   \n",
       "30  What side effects are most difficult to manage...   \n",
       "31  How does a patch-based medication like Daytran...   \n",
       "37  What long-term side effects emerge after exten...   \n",
       "39  How frequently does dosage need to be increase...   \n",
       "\n",
       "                                              ANSWERS  \n",
       "6   Patients report that both Concerta and Adderal...  \n",
       "12  During treatment with Guanfacine or Intuniv, p...  \n",
       "15  Patients report that stimulant medications lik...  \n",
       "19  ADHD medications have varied effects on emotio...  \n",
       "22  Patients often describe the emotional \"crash\" ...  \n",
       "27  Patients report that immediate-release (IR) AD...  \n",
       "30  Patients most frequently report excessive tire...  \n",
       "31  Patients report that Daytrana, a patch-based m...  \n",
       "37  Patients report several long-term side effects...  \n",
       "39  Dosage increases are sometimes required when e...  "
      ]
     },
     "execution_count": 44,
     "metadata": {},
     "output_type": "execute_result"
    }
   ],
   "source": [
    "# Cluster embeddings to 10 groups and select representative questions from each group\n",
    "kmeans = KMeans(n_clusters=10, random_state=0)\n",
    "kmeans.fit(embs)\n",
    "labels = kmeans.labels_\n",
    "closest_indices, _ = pairwise_distances_argmin_min(kmeans.cluster_centers_, embs)\n",
    "valdata = testdata.iloc[sorted(closest_indices)]\n",
    "valdata"
   ]
  },
  {
   "cell_type": "code",
   "execution_count": 45,
   "metadata": {},
   "outputs": [],
   "source": [
    "# Save validataion data\n",
    "valdata.to_csv('data/val_data.csv')"
   ]
  },
  {
   "cell_type": "markdown",
   "metadata": {},
   "source": [
    "## Zero-shot prediction (GPT-3.5-turbo and GPT-4o)"
   ]
  },
  {
   "cell_type": "code",
   "execution_count": 3,
   "metadata": {},
   "outputs": [],
   "source": [
    "# Dictionary to store performance results\n",
    "STORE = {} "
   ]
  },
  {
   "cell_type": "code",
   "execution_count": 4,
   "metadata": {},
   "outputs": [],
   "source": [
    "def run_zeroshot_prediction(model_name='gpt-3.5-turbo'):\n",
    "\n",
    "    # Build a chain for zero-shot prediction with GPT-3.5-turbo\n",
    "    model = ChatOpenAI(model=model_name, temperature=0) # use default params \n",
    "\n",
    "    system_prompt = \"\"\"\n",
    "    You are a helpful assistant that provides concise answers questions patients have about ADHD medication\n",
    "    \"\"\"\n",
    "\n",
    "    user_prompt = \"\"\"\n",
    "    Answer the question provided below.\n",
    "    Your answer should be a few sentences and be concise.\n",
    "\n",
    "    Here is an example of how you should answer:\n",
    "\n",
    "    Question: What changes typically occur in a child’s mood or energy after starting Intuniv?\n",
    "    Answer: After starting Intuniv, children often experience increased calmness, reduced impulsivity, and better sleep. However, some also show decreased energy, fatigue, irritability, or emotional flatness. Responses vary depending on the dosage and individual sensitivity.\n",
    "\n",
    "    Use this style in your own answers.\n",
    "\n",
    "    Question: {question}\n",
    "    \"\"\"\n",
    "\n",
    "    #  Prompt template\n",
    "    prompt = ChatPromptTemplate.from_messages([\n",
    "        SystemMessagePromptTemplate.from_template(system_prompt),\n",
    "        HumanMessagePromptTemplate.from_template(user_prompt)\n",
    "    ])\n",
    "\n",
    "    # Chain\n",
    "    chain = (\n",
    "        {\"question\": lambda x: x}  # passthrough identity for each input question\n",
    "        | prompt\n",
    "        | model\n",
    "        | (lambda m: m.content)  # extract .content from AIMessage list\n",
    "    )\n",
    "    # Run the GPT-3.5-turbo pipeline over the questions\n",
    "    responses = chain.batch(valdata['QUESTIONS'].tolist())\n",
    "\n",
    "    # Text from responses\n",
    "    gentext = [item.split('Answer: ')[-1] for item in responses]\n",
    "    \n",
    "    return gentext\n"
   ]
  },
  {
   "cell_type": "code",
   "execution_count": 5,
   "metadata": {},
   "outputs": [],
   "source": [
    "def compute_performance(references, candidates):\n",
    "    \"\"\"Return a dictionary of Rouge and BERTScore metrics evaluating quality of a list \n",
    "    of generated candidates relative to a corresponding list of references\"\"\"\n",
    "    \n",
    "    rouge = evaluate.load('rouge')\n",
    "    results = rouge.compute(predictions=candidates, references=references)\n",
    "    bscores = bert_score.score(cands=candidates, refs=references, lang='en', \n",
    "                               model_type='bert-base-uncased', rescale_with_baseline=True)\n",
    "    bscores = np.asarray([item.numpy() for item in bscores]).mean(axis=-1) # Average over all samples\n",
    "    results.update(dict(zip(['bertscore_precision', 'bertscore_recall', 'bertscore_f1'], bscores)))\n",
    "    \n",
    "    return results\n",
    "    "
   ]
  },
  {
   "cell_type": "code",
   "execution_count": 7,
   "metadata": {},
   "outputs": [
    {
     "data": {
      "text/plain": [
       "[\"Concerta and Adderall are both stimulant medications used to treat ADHD. They can both improve focus and attention, but some individuals may find that one works better for them than the other. Adderall may have a more noticeable impact on mood and energy levels compared to Concerta. It's important to work with your healthcare provider to find the medication that works best for you.\",\n",
       " 'Personality changes during treatment with Guanfacine or Intuniv may include increased calmness, reduced impulsivity, and improved focus. However, some individuals may also experience side effects such as fatigue, irritability, or emotional changes. It is important to monitor any changes and discuss them with a healthcare provider.',\n",
       " 'Stimulant medications like Adderall or Vyvanse can sometimes lead to changes in libido or sexual desire. Some individuals may experience a decrease in libido or sexual desire as a side effect of these medications. It is important to discuss any concerns with your healthcare provider.',\n",
       " 'ADHD medications can help improve emotional regulation by reducing impulsivity and hyperactivity, leading to more stable moods. Some individuals may also experience side effects like irritability or emotional blunting, but overall, medication can help manage mood variability in those with ADHD.',\n",
       " 'The emotional \"crash\" from ADHD medications is often characterized by irritability, sadness, or mood swings as the medication wears off. To manage this, maintaining a consistent medication schedule, practicing stress-reducing activities, and discussing any concerns with a healthcare provider can be helpful.',\n",
       " 'Immediate-release ADHD formulations provide a quick onset of action but require multiple daily doses, while extended-release formulations offer sustained symptom control throughout the day with just one dose. Extended-release formulations may also help reduce the potential for medication misuse or abuse compared to immediate-release options.',\n",
       " 'The most difficult side effects to manage with ADHD medications are often appetite suppression, sleep disturbances, and emotional dysregulation. Strategies commonly used include adjusting the timing of medication, incorporating regular meals and snacks, promoting good sleep hygiene, and implementing behavioral interventions to address emotional challenges. Consulting with a healthcare provider for personalized guidance is recommended.',\n",
       " 'Daytrana, being a patch-based medication, can simplify the medication routine as it eliminates the need for daily pill-taking. This can improve treatment adherence and consistency, leading to better treatment outcomes for individuals with ADHD.',\n",
       " 'Long-term side effects of extended ADHD medication use may include potential growth suppression, changes in heart rate or blood pressure, and possible effects on appetite and weight. Regular monitoring by a healthcare provider is important to address any concerns and adjust treatment as needed.',\n",
       " \"Dosage adjustments for ADHD medications like stimulants or non-stimulants are typically made every 1-2 weeks until the optimal dose is reached. Increasing the dosage too quickly can lead to side effects like increased heart rate, blood pressure, or irritability. It's important to follow your healthcare provider's guidance when adjusting medication dosages.\"]"
      ]
     },
     "execution_count": 7,
     "metadata": {},
     "output_type": "execute_result"
    }
   ],
   "source": [
    "# Zero-shot with GPT-3.5-turbo\n",
    "valdata = pd.read_csv('data/val_data.csv', index_col=0) # Fetch valdata\n",
    "gentext = run_zeroshot_prediction(model_name='gpt-3.5-turbo')\n",
    "\n",
    "# Save generated text\n",
    "with open(\"data/responses/gpt-3.5-val-zeroshot.txt\", 'w') as f:\n",
    "    for item in gentext:\n",
    "        f.write(item + '\\n')\n",
    "gentext"
   ]
  },
  {
   "cell_type": "code",
   "execution_count": 8,
   "metadata": {},
   "outputs": [
    {
     "data": {
      "text/plain": [
       "{'rouge1': 0.340761689166447,\n",
       " 'rouge2': 0.11546308328840821,\n",
       " 'rougeL': 0.2402082185756181,\n",
       " 'rougeLsum': 0.24057735508353856,\n",
       " 'bertscore_precision': 0.5178681,\n",
       " 'bertscore_recall': 0.43456736,\n",
       " 'bertscore_f1': 0.47419533}"
      ]
     },
     "execution_count": 8,
     "metadata": {},
     "output_type": "execute_result"
    }
   ],
   "source": [
    "# Evaluate gpt-3.5 zero shot performance\n",
    "results = compute_performance(references=valdata['ANSWERS'].tolist(), candidates=gentext)\n",
    "STORE['gpt-3.5-zeroshot'] = results\n",
    "results"
   ]
  },
  {
   "cell_type": "code",
   "execution_count": 9,
   "metadata": {},
   "outputs": [
    {
     "data": {
      "text/plain": [
       "['Concerta and Adderall both improve focus and attention in individuals with ADHD, but they work differently. Concerta, a long-acting form of methylphenidate, provides a steady release of medication, which can lead to smoother mood and energy levels throughout the day. Adderall, an amphetamine-based stimulant, often has a more immediate and pronounced effect on focus and energy, but can also lead to mood swings or a \"crash\" as it wears off. Individual responses vary, and some may find one medication more effective or tolerable than the other.',\n",
       " 'During treatment with Guanfacine or Intuniv, some individuals may experience personality changes such as increased calmness, reduced impulsivity, and improved focus. However, others might notice decreased energy, emotional flatness, or irritability. These changes can vary based on dosage and individual response to the medication.',\n",
       " 'Stimulant medications like Adderall or Vyvanse can affect libido or sexual desire in different ways. Some individuals may experience a decrease in sexual desire due to side effects like anxiety, mood changes, or fatigue. Conversely, others might notice no change or even an increase in libido. These effects can vary based on individual sensitivity and dosage.',\n",
       " 'ADHD medications, particularly stimulants like methylphenidate and amphetamines, can improve emotional regulation by reducing impulsivity and enhancing focus, which may lead to more stable moods. However, some individuals may experience side effects such as increased irritability, mood swings, or anxiety. Non-stimulant medications like atomoxetine may also help with emotional regulation but can cause mood-related side effects in some cases. Responses vary based on the medication type, dosage, and individual differences.',\n",
       " 'After ADHD medications wear off, some individuals experience an emotional \"crash,\" characterized by irritability, mood swings, or sadness. This can be managed by adjusting the medication dosage or timing, using a long-acting formulation, or incorporating behavioral strategies. Consulting with a healthcare provider is essential to tailor the approach to the individual\\'s needs.',\n",
       " 'Immediate-release ADHD formulations are designed to be taken multiple times a day, providing a quick onset of action but a shorter duration of effect. Extended-release formulations are taken once daily, offering a slower release of medication that provides a more consistent effect throughout the day. This can improve adherence and reduce the need for multiple doses, but individual responses and side effects may vary.',\n",
       " 'Commonly difficult side effects of ADHD medications include insomnia, decreased appetite, and mood swings. Strategies to manage these include adjusting the medication dosage or timing, incorporating healthy sleep routines, offering high-calorie snacks to boost appetite, and monitoring mood changes closely. Consulting with a healthcare provider is crucial to tailor strategies to individual needs.',\n",
       " 'Daytrana, a patch-based ADHD medication, offers flexible dosing by allowing parents to control the duration of medication exposure, which can help tailor treatment to daily routines. It provides consistent medication delivery throughout the day, potentially improving focus and behavior. However, it may cause skin irritation at the application site, and its effectiveness can vary based on individual response and adherence to application guidelines.',\n",
       " 'Long-term use of ADHD medications, such as stimulants, can lead to side effects like decreased appetite, weight loss, and sleep disturbances. Some individuals may experience increased heart rate or blood pressure. There is also a potential for emotional changes, such as mood swings or anxiety. However, most side effects are manageable and vary based on individual response and medication type. Regular monitoring by a healthcare provider is essential to address any concerns.',\n",
       " \"Dosage adjustments for ADHD medication vary by individual and medication type. Stimulant medications may require periodic increases to maintain effectiveness as the body adjusts, while non-stimulants might have more stable dosing. Increasing dosage too frequently can lead to side effects such as increased heart rate, anxiety, or insomnia. It's important to work closely with a healthcare provider to monitor effectiveness and side effects.\"]"
      ]
     },
     "execution_count": 9,
     "metadata": {},
     "output_type": "execute_result"
    }
   ],
   "source": [
    "# Zero-shot with GPT-4o\n",
    "gentext = run_zeroshot_prediction(model_name='gpt-4o')\n",
    "\n",
    "# Save generated text\n",
    "with open(\"data/responses/gpt-4o-val-zeroshot.txt\", 'w') as f:\n",
    "    for item in gentext:\n",
    "        f.write(item + '\\n')\n",
    "gentext"
   ]
  },
  {
   "cell_type": "code",
   "execution_count": 10,
   "metadata": {},
   "outputs": [
    {
     "data": {
      "text/plain": [
       "{'rouge1': 0.3842139049744373,\n",
       " 'rouge2': 0.13114923032398432,\n",
       " 'rougeL': 0.2523934103789707,\n",
       " 'rougeLsum': 0.2518385910482833,\n",
       " 'bertscore_precision': 0.5146666,\n",
       " 'bertscore_recall': 0.48812446,\n",
       " 'bertscore_f1': 0.5015344}"
      ]
     },
     "execution_count": 10,
     "metadata": {},
     "output_type": "execute_result"
    }
   ],
   "source": [
    "# Evaluate gpt-4o performance\n",
    "results = compute_performance(references=valdata['ANSWERS'].tolist(), candidates=gentext)\n",
    "STORE['gpt-4o-zeroshot'] = results\n",
    "results"
   ]
  },
  {
   "cell_type": "code",
   "execution_count": 11,
   "metadata": {},
   "outputs": [
    {
     "data": {
      "text/html": [
       "<div>\n",
       "<style scoped>\n",
       "    .dataframe tbody tr th:only-of-type {\n",
       "        vertical-align: middle;\n",
       "    }\n",
       "\n",
       "    .dataframe tbody tr th {\n",
       "        vertical-align: top;\n",
       "    }\n",
       "\n",
       "    .dataframe thead th {\n",
       "        text-align: right;\n",
       "    }\n",
       "</style>\n",
       "<table border=\"1\" class=\"dataframe\">\n",
       "  <thead>\n",
       "    <tr style=\"text-align: right;\">\n",
       "      <th></th>\n",
       "      <th>rouge1</th>\n",
       "      <th>rouge2</th>\n",
       "      <th>rougeL</th>\n",
       "      <th>rougeLsum</th>\n",
       "      <th>bertscore_precision</th>\n",
       "      <th>bertscore_recall</th>\n",
       "      <th>bertscore_f1</th>\n",
       "    </tr>\n",
       "  </thead>\n",
       "  <tbody>\n",
       "    <tr>\n",
       "      <th>gpt-3.5-zeroshot</th>\n",
       "      <td>0.340762</td>\n",
       "      <td>0.115463</td>\n",
       "      <td>0.240208</td>\n",
       "      <td>0.240577</td>\n",
       "      <td>0.517868</td>\n",
       "      <td>0.434567</td>\n",
       "      <td>0.474195</td>\n",
       "    </tr>\n",
       "    <tr>\n",
       "      <th>gpt-4o-zeroshot</th>\n",
       "      <td>0.384214</td>\n",
       "      <td>0.131149</td>\n",
       "      <td>0.252393</td>\n",
       "      <td>0.251839</td>\n",
       "      <td>0.514667</td>\n",
       "      <td>0.488124</td>\n",
       "      <td>0.501534</td>\n",
       "    </tr>\n",
       "  </tbody>\n",
       "</table>\n",
       "</div>"
      ],
      "text/plain": [
       "                    rouge1    rouge2    rougeL  rougeLsum  \\\n",
       "gpt-3.5-zeroshot  0.340762  0.115463  0.240208   0.240577   \n",
       "gpt-4o-zeroshot   0.384214  0.131149  0.252393   0.251839   \n",
       "\n",
       "                  bertscore_precision  bertscore_recall  bertscore_f1  \n",
       "gpt-3.5-zeroshot             0.517868          0.434567      0.474195  \n",
       "gpt-4o-zeroshot              0.514667          0.488124      0.501534  "
      ]
     },
     "execution_count": 11,
     "metadata": {},
     "output_type": "execute_result"
    }
   ],
   "source": [
    "# Store and view results \n",
    "joblib.dump(STORE, 'results-store.pkl')\n",
    "df = pd.DataFrame(STORE).transpose()\n",
    "df"
   ]
  },
  {
   "cell_type": "markdown",
   "metadata": {},
   "source": [
    "## Optimize embedding model"
   ]
  },
  {
   "cell_type": "markdown",
   "metadata": {},
   "source": [
    "Compare the following embedding models:\n",
    "\n",
    "1. **text-embedding-small-3** (dim=1536): Open AI SOTA embedding model\n",
    "\n",
    "2. **text-embedding-large-3** (dim=3072): Open AI SOTA embedding model\n",
    "\n",
    "3. **BioSimCSE-BioLinkBERT-BASE** (dim=768): fine-tuned BERT model with contrastive learning (SimCSE) to retrieve semantically similar biomedical texts. See the [paper](https://aclanthology.org/2022.louhi-1.10/).\n",
    "\n",
    "4. **BMRetriever** (dim=1024): contrastively trained autoregressive transformer model for retrieving semantically relevant biomedical texts, enhanced with instruction tuning and synthetic query generation. See the [paper](https://arxiv.org/abs/2404.18443).\n",
    " \n"
   ]
  },
  {
   "cell_type": "code",
   "execution_count": 12,
   "metadata": {},
   "outputs": [],
   "source": [
    "class BioSimCSEEmbeddings(Embeddings):\n",
    "    \n",
    "    def __init__(self, model_name=\"kamalkraj/BioSimCSE-BioLinkBERT-BASE\", \n",
    "                 progress_bar=True):\n",
    "        super().__init__()\n",
    "        self.tokenizer = AutoTokenizer.from_pretrained(model_name)\n",
    "        self.model = AutoModel.from_pretrained(model_name, trust_remote_code=True, use_safetensors=True)\n",
    "        self.device = \"cuda\" if torch.cuda.is_available() else \"cpu\"\n",
    "        self.model.to(self.device)\n",
    "        self.progress_bar = progress_bar\n",
    "\n",
    "    def _embed(self, text):\n",
    "        inputs = self.tokenizer(text, return_tensors=\"pt\", truncation=True, padding=True, max_length=512)\n",
    "        inputs = {k: v.to(self.device) for k, v in inputs.items()}\n",
    "        with torch.no_grad():\n",
    "            outputs = self.model(**inputs)\n",
    "        return outputs.last_hidden_state[:, 0].squeeze().cpu().numpy()  # CLS token\n",
    "\n",
    "    def embed_documents(self, texts):\n",
    "        texts = tqdm(texts) if self.progress_bar else texts\n",
    "        return [self._embed(text) for text in texts]\n",
    "\n",
    "    def embed_query(self, text):\n",
    "        return self._embed(text)\n",
    "    \n",
    "    def __call__(self, text):\n",
    "        return self.embed_query(text)    \n"
   ]
  },
  {
   "cell_type": "code",
   "execution_count": 13,
   "metadata": {},
   "outputs": [],
   "source": [
    "\n",
    "class BMRetrieverEmbeddings(Embeddings):\n",
    "    \"\"\"Embedding class for biomedical QA retrieval using BMRetriever with instruction prompts,\n",
    "    and last-token pooling with EOS token handling.\n",
    "    \"\"\"\n",
    "\n",
    "    def __init__(self, model_name='BMRetriever/BMRetriever-410M', \n",
    "                 is_query=False, progress_bar= True):\n",
    "        super().__init__()\n",
    "        self.tokenizer = AutoTokenizer.from_pretrained(model_name)\n",
    "        self.model = AutoModel.from_pretrained(model_name, trust_remote_code=True, use_safetensors=True)\n",
    "        self.device = \"cuda\" if torch.cuda.is_available() else \"cpu\"\n",
    "        self.model.to(self.device)\n",
    "        self.is_query = is_query\n",
    "        self.progress_bar = progress_bar\n",
    "        self.query_instruction = \"Find passages that directly answer the question.\"\n",
    "        self.doc_instruction = \"Represent this passage.\"\n",
    "\n",
    "    def _add_instruction(self, text):\n",
    "        if self.is_query:\n",
    "            return f\"{self.query_instruction}\\nQuestion: {text}\"\n",
    "        else:\n",
    "            return f\"{self.doc_instruction}\\npassage: {text}\"\n",
    "\n",
    "    def _embed(self, text):\n",
    "        text = self._add_instruction(text)\n",
    "        encoded = self.tokenizer(text, max_length=511, padding=True, truncation=True, return_tensors='pt')\n",
    "        # Append EOS token.\n",
    "        eos = torch.tensor([[self.tokenizer.eos_token_id]], device=self.device)\n",
    "        encoded['input_ids'] = torch.cat([encoded['input_ids'], eos], dim=1)\n",
    "        encoded['attention_mask'] = torch.cat([encoded['attention_mask'], torch.ones_like(eos)], dim=1)\n",
    "        encoded = {k: v.to(self.device) for k, v in encoded.items()} # Move to device\n",
    "        # Embed text\n",
    "        with torch.no_grad():\n",
    "            output = self.model(**encoded)\n",
    "            last_hidden = output.last_hidden_state\n",
    "            seq_lengths = encoded['attention_mask'].sum(dim=1) - 1\n",
    "            pooled = last_hidden[torch.arange(last_hidden.size(0)), seq_lengths] # EOS token\n",
    "            return pooled.squeeze().cpu().numpy().astype('float32')\n",
    "\n",
    "    def embed_documents(self, texts):\n",
    "        if self.is_query:\n",
    "            raise ValueError(\"embed_documents called with is_query=True. Initialize a separate instance for passages.\")\n",
    "        texts = tqdm(texts) if self.progress_bar else texts\n",
    "        return [self._embed(text) for text in texts]\n",
    "\n",
    "    def embed_query(self, text):\n",
    "        if not self.is_query:\n",
    "            raise ValueError(\"embed_query called with is_query=False. Initialize a separate instance for queries.\")\n",
    "        return self._embed(text)\n",
    "\n",
    "    def __call__(self, text):\n",
    "        return self.embed_query(text) if self.is_query else self._embed(text)\n"
   ]
  },
  {
   "cell_type": "code",
   "execution_count": 14,
   "metadata": {},
   "outputs": [],
   "source": [
    "# Load documents\n",
    "documents = joblib.load('data/adhd_drug_reviews.pkl') # Load ADHD review documents"
   ]
  },
  {
   "cell_type": "code",
   "execution_count": null,
   "metadata": {},
   "outputs": [],
   "source": [
    "# Create FAISS vector stores with BioSimCSE-BioLinkBERT\n",
    "embedding = BioSimCSEEmbeddings(progress_bar=True)\n",
    "vectorstore = FAISS.from_documents(\n",
    "    documents,\n",
    "    embedding,\n",
    "    normalize_L2=False  # Don't normalize for L2 (FlatL2 index)\n",
    ")\n",
    "vectorstore.save_local('data/vector-stores/biosimcse-biolinkbert-flatL2')\n"
   ]
  },
  {
   "cell_type": "code",
   "execution_count": 15,
   "metadata": {},
   "outputs": [
    {
     "name": "stderr",
     "output_type": "stream",
     "text": [
      "100%|██████████| 4509/4509 [1:06:01<00:00,  1.14it/s]\n"
     ]
    }
   ],
   "source": [
    "# Create FAISS vector stores with BMRetriever\n",
    "embedding = BMRetrieverEmbeddings(is_query=False, progress_bar=True) # embed documents\n",
    "vectorstore = FAISS.from_documents(\n",
    "    documents,\n",
    "    embedding,\n",
    "    normalize_L2=False  # Don't normalize for L2 (FlatL2 index)\n",
    ")\n",
    "vectorstore.save_local('data/vector-stores/bmretriever-flatL2')"
   ]
  },
  {
   "cell_type": "code",
   "execution_count": null,
   "metadata": {},
   "outputs": [],
   "source": [
    "# Create FAISS vector stores with OpenAI 3 embedding models\n",
    "documents = joblib.load('data/adhd_drug_reviews.pkl') # Load documents\n",
    "for embname in ['small', 'large']: # small: 1536 dim, large: 3072 dim\n",
    "    fullname = f'text-embedding-3-{embname}'\n",
    "    embedding = OpenAIEmbeddings(\n",
    "        model=fullname,  \n",
    "        show_progress_bar=False\n",
    "    )\n",
    "    vectorstore = FAISS.from_documents(\n",
    "        documents, \n",
    "        embedding,\n",
    "        normalize_L2=False # Uses exact search (FlatL2 index), so no need to normalize\n",
    "    )\n",
    "    # Save vectorstore\n",
    "    vectorstore.save_local(f'data/vector-stores/{fullname}-flatL2')"
   ]
  },
  {
   "cell_type": "code",
   "execution_count": 83,
   "metadata": {},
   "outputs": [],
   "source": [
    "# Functions to run RAG with specified embeddings and vector stores\n",
    "\n",
    "def build_RAG_chain(model_name='gpt-3.5-turbo', temperature=0, top_p=1):\n",
    "    \"\"\"Return a LangChain pipeline for RAG generation\"\"\"\n",
    "\n",
    "    system_prompt = \"\"\"\n",
    "    You are a helpful assistant that provides concise, evidence-based answers to user questions based on patient-provided documents.\n",
    "    Your goal is to summarize real experiences with medical treatments as described in the text.\n",
    "\n",
    "    \"\"\"\n",
    "\n",
    "    user_prompt = \"\"\"\n",
    "    Based on the patient review document attached, answer the following question using only information found directly in the document. \n",
    "    Your answer should be a few sentences and be concise.\n",
    "    Avoid speculation, generalizations, or added interpretation. Focus only on what patients actually report.\n",
    "\n",
    "    Here is an example of how you should answer:\n",
    "\n",
    "    Question: What changes typically occur in a child’s mood or energy after starting Intuniv?\n",
    "    Answer: After starting Intuniv, children often experience increased calmness, reduced impulsivity, and better sleep. However, some also show decreased energy, fatigue, irritability, or emotional flatness. Responses vary depending on the dosage and individual sensitivity.\n",
    "\n",
    "    Use this style in your own answers.\n",
    "\n",
    "    Question: {question}\n",
    "\n",
    "    --- BEGIN DOCUMENT ---\n",
    "    {document_text}\n",
    "    --- END DOCUMENT ---\n",
    "    \"\"\"\n",
    "\n",
    "    # Build prompt\n",
    "    prompt = ChatPromptTemplate.from_messages([\n",
    "        SystemMessagePromptTemplate.from_template(system_prompt),\n",
    "        HumanMessagePromptTemplate.from_template(user_prompt)\n",
    "    ])\n",
    "    \n",
    "    # Model and chain\n",
    "    model = ChatOpenAI(model=model_name, temperature=temperature, top_p=top_p)\n",
    "    chain = (\n",
    "        #lambda x: {'question': x[\"question\"], 'document_text': x['document_text']}\n",
    "        RunnableLambda(lambda x: {'question': x[\"question\"], 'document_text': x['document_text']})\n",
    "        | prompt\n",
    "        | model\n",
    "        | (lambda m: m.content)  # extract .content from AIMessage list\n",
    "    )\n",
    "    return chain\n",
    "\n",
    "\n",
    "\n",
    "\n",
    "def run_rag_chain(model_name, temperature, top_p, vectorstore, questions, rag_k=4):\n",
    "    \"\"\"Run a RAG chain over a list of questions using the specified model and vectorstore, returning the generated responses.\"\"\"\n",
    "\n",
    "    chain = build_RAG_chain(model_name=model_name, temperature=temperature, \n",
    "                            top_p=top_p)\n",
    "    responses = []\n",
    "    for question in questions:\n",
    "        document_text = vectorstore.similarity_search(query=question, k=rag_k)\n",
    "        document_text = \"\\n\".join([item.page_content for item in document_text])\n",
    "        response = chain.invoke({'question': question, 'document_text': document_text})\n",
    "        responses.append(response)\n",
    "\n",
    "    return responses\n",
    "\n",
    "\n",
    "\n",
    "\n",
    "def evaluate_rag_model(model_name, vectorstore_path, embedding, questions, references, rag_k=5, \n",
    "                       temperature=0, top_p=1):\n",
    "    \"\"\"Runs the RAG pipeline with a specified model and embedding to generate answers and \n",
    "    compute performance metrics.\"\"\"\n",
    "\n",
    "    vectorstore = FAISS.load_local(\n",
    "        vectorstore_path, \n",
    "        embeddings=embedding, \n",
    "        allow_dangerous_deserialization=True\n",
    "        )\n",
    "    responses = run_rag_chain(\n",
    "        model_name=model_name, \n",
    "        vectorstore=vectorstore, \n",
    "        questions=questions, \n",
    "        temperature=temperature, \n",
    "        top_p=top_p,\n",
    "        rag_k=rag_k)\n",
    "    answers = [r.split('\\nAnswer: ')[-1] for r in responses]\n",
    "    results = compute_performance(references=references, candidates=answers)\n",
    "    \n",
    "    return answers, results\n",
    "\n",
    "\n"
   ]
  },
  {
   "cell_type": "code",
   "execution_count": null,
   "metadata": {},
   "outputs": [],
   "source": [
    "# Run RAG with the different embeddings using L2 distance similarity\n",
    "k = 5\n",
    "embedding_names =['text-embedding-3-small', 'text-embedding-3-large', \n",
    "                  'biosimcse-biolinkbert', 'bmretriever']\n",
    "\n",
    "for embedding_name in tqdm(embedding_names):\n",
    "    \n",
    "    # Embedding model\n",
    "    if 'text-embedding' in embedding_name: # OpenAI\n",
    "        embedding = OpenAIEmbeddings(model=embedding_name, show_progress_bar=False)\n",
    "    elif 'biosimcse' in embedding_name: # biosimcse-biolinkbert\n",
    "        embedding = BioSimCSEEmbeddings(progress_bar=False)\n",
    "    elif 'bmretriever' in embedding_name:\n",
    "        embedding = BMRetrieverEmbeddings(is_query=True, progress_bar=False)\n",
    "    \n",
    "    # Run rag\n",
    "    answers, results = evaluate_rag_model(\n",
    "        model_name='gpt-3.5-turbo', # Generative model\n",
    "        vectorstore_path=f'data/vector-stores/{embedding_name}-flatL2',\n",
    "        embedding=embedding,\n",
    "        questions=valdata['QUESTIONS'].tolist(),\n",
    "        references=valdata['ANSWERS'].tolist(),\n",
    "        rag_k=k, \n",
    "        temperature=0\n",
    "        )\n",
    "    answers = [item.split('\\nAnswer: ')[-1] for item in answers]\n",
    "    \n",
    "    # Save answers\n",
    "    with open(f\"data/responses/gpt-3.5-{embedding_name}-flatL2.txt\", 'w') as f:\n",
    "        for item in answers:\n",
    "            f.write(item + '\\n')    \n",
    "    \n",
    "    # Store results\n",
    "    STORE[f\"gpt-3.5-{embedding_name}-flatL2\"] = results"
   ]
  },
  {
   "cell_type": "code",
   "execution_count": 51,
   "metadata": {},
   "outputs": [],
   "source": [
    "# Function to convert L2 vector store to inner (dot) product\n",
    "\n",
    "def convert_faiss_l2_to_ip(vectorstore_path, embedding_model):\n",
    "    \"\"\"Load a FAISS vectorstore built with L2 distance (flatL2), converts it to use dot product \n",
    "    (inner product), and save the new vectorstore.\"\"\"\n",
    "    \n",
    "    # Load existing vectorstore\n",
    "    vectorstore_l2 = FAISS.load_local(\n",
    "        folder_path=vectorstore_path,\n",
    "        embeddings=embedding_model,\n",
    "        allow_dangerous_deserialization=True\n",
    "    )\n",
    "\n",
    "    # Extract embeddings from index\n",
    "    embeddings_l2 = vectorstore_l2.index.reconstruct_n(0, vectorstore_l2.index.ntotal)\n",
    "\n",
    "\n",
    "    # Create dot-product index\n",
    "    index_ip = faiss.IndexFlatIP(embeddings_l2.shape[1])\n",
    "    index_ip.add(embeddings_l2.astype(\"float32\"))\n",
    "\n",
    "    # Wrap into new FAISS vectorstore\n",
    "    vectorstore_ip = FAISS(\n",
    "        index=index_ip,\n",
    "        docstore=vectorstore_l2.docstore,\n",
    "        index_to_docstore_id=vectorstore_l2.index_to_docstore_id,\n",
    "        embedding_function=embedding_model\n",
    "    )\n",
    "\n",
    "    # Save\n",
    "    vectorstore_ip.save_local(vectorstore_path.replace('flatL2', 'dotP'))\n",
    "    \n",
    "    return vectorstore_ip\n"
   ]
  },
  {
   "cell_type": "code",
   "execution_count": 52,
   "metadata": {},
   "outputs": [
    {
     "name": "stderr",
     "output_type": "stream",
     "text": [
      "100%|██████████| 4/4 [01:06<00:00, 16.56s/it]\n"
     ]
    }
   ],
   "source": [
    "# Rerun RAG with dot product similarity\n",
    "k = 5\n",
    "embedding_names =['text-embedding-3-small', 'text-embedding-3-large', \n",
    "                  'biosimcse-biolinkbert', 'bmretriever']\n",
    "\n",
    "for embedding_name in tqdm(embedding_names):\n",
    "    \n",
    "    # Embedding model\n",
    "    if 'text-embedding' in embedding_name: # OpenAI\n",
    "        embedding = OpenAIEmbeddings(model=embedding_name, show_progress_bar=False)\n",
    "    elif 'biosimcse' in embedding_name: # biosimcse-biolinkbert\n",
    "        embedding = BioSimCSEEmbeddings(progress_bar=False)\n",
    "    elif 'bmretriever' in embedding_name:\n",
    "        embedding = BMRetrieverEmbeddings(is_query=True, progress_bar=False)\n",
    "    \n",
    "    # Compute dot-product vector store\n",
    "    vectorstore = convert_faiss_l2_to_ip(f'data/vector-stores/{embedding_name}-flatL2', embedding)\n",
    "    \n",
    "    # Run rag\n",
    "    answers, results = evaluate_rag_model(\n",
    "        model_name='gpt-3.5-turbo', # Generative model\n",
    "        vectorstore_path=f'data/vector-stores/{embedding_name}-dotP',\n",
    "        embedding=embedding,\n",
    "        questions=valdata['QUESTIONS'].tolist(),\n",
    "        references=valdata['ANSWERS'].tolist(),\n",
    "        rag_k=k, \n",
    "        temperature=0\n",
    "        )\n",
    "    answers = [item.split('\\nAnswer: ')[-1] for item in answers]\n",
    "    \n",
    "    # Save answers\n",
    "    with open(f\"data/responses/gpt-3.5-{embedding_name}-dotP.txt\", 'w') as f:\n",
    "        for item in answers:\n",
    "            f.write(item + '\\n')    \n",
    "    \n",
    "    # Store results\n",
    "    STORE[f\"gpt-3.5-{embedding_name}-dotP\"] = results"
   ]
  },
  {
   "cell_type": "code",
   "execution_count": 61,
   "metadata": {},
   "outputs": [
    {
     "data": {
      "text/html": [
       "<div>\n",
       "<style scoped>\n",
       "    .dataframe tbody tr th:only-of-type {\n",
       "        vertical-align: middle;\n",
       "    }\n",
       "\n",
       "    .dataframe tbody tr th {\n",
       "        vertical-align: top;\n",
       "    }\n",
       "\n",
       "    .dataframe thead th {\n",
       "        text-align: right;\n",
       "    }\n",
       "</style>\n",
       "<table border=\"1\" class=\"dataframe\">\n",
       "  <thead>\n",
       "    <tr style=\"text-align: right;\">\n",
       "      <th></th>\n",
       "      <th>rouge1</th>\n",
       "      <th>rouge2</th>\n",
       "      <th>rougeL</th>\n",
       "      <th>rougeLsum</th>\n",
       "      <th>bertscore_precision</th>\n",
       "      <th>bertscore_recall</th>\n",
       "      <th>bertscore_f1</th>\n",
       "    </tr>\n",
       "  </thead>\n",
       "  <tbody>\n",
       "    <tr>\n",
       "      <th>gpt-3.5-biosimcse-biolinkbert-dotP</th>\n",
       "      <td>0.267100</td>\n",
       "      <td>0.065513</td>\n",
       "      <td>0.149284</td>\n",
       "      <td>0.149048</td>\n",
       "      <td>0.437181</td>\n",
       "      <td>0.372358</td>\n",
       "      <td>0.404552</td>\n",
       "    </tr>\n",
       "    <tr>\n",
       "      <th>gpt-3.5-biosimcse-biolinkbert-flatL2</th>\n",
       "      <td>0.282073</td>\n",
       "      <td>0.072719</td>\n",
       "      <td>0.184092</td>\n",
       "      <td>0.183736</td>\n",
       "      <td>0.462633</td>\n",
       "      <td>0.364840</td>\n",
       "      <td>0.411634</td>\n",
       "    </tr>\n",
       "    <tr>\n",
       "      <th>gpt-3.5-bmretriever-dotP</th>\n",
       "      <td>0.293239</td>\n",
       "      <td>0.076235</td>\n",
       "      <td>0.184981</td>\n",
       "      <td>0.183930</td>\n",
       "      <td>0.457635</td>\n",
       "      <td>0.417386</td>\n",
       "      <td>0.438152</td>\n",
       "    </tr>\n",
       "    <tr>\n",
       "      <th>gpt-3.5-text-embedding-3-small-dotP</th>\n",
       "      <td>0.317602</td>\n",
       "      <td>0.067391</td>\n",
       "      <td>0.191126</td>\n",
       "      <td>0.191617</td>\n",
       "      <td>0.463448</td>\n",
       "      <td>0.422623</td>\n",
       "      <td>0.443753</td>\n",
       "    </tr>\n",
       "    <tr>\n",
       "      <th>gpt-3.5-text-embedding-3-small-flatL2</th>\n",
       "      <td>0.308695</td>\n",
       "      <td>0.071900</td>\n",
       "      <td>0.194732</td>\n",
       "      <td>0.194814</td>\n",
       "      <td>0.468700</td>\n",
       "      <td>0.425654</td>\n",
       "      <td>0.447648</td>\n",
       "    </tr>\n",
       "    <tr>\n",
       "      <th>gpt-3.5-bmretriever-flatL2</th>\n",
       "      <td>0.334835</td>\n",
       "      <td>0.114497</td>\n",
       "      <td>0.223392</td>\n",
       "      <td>0.223651</td>\n",
       "      <td>0.506406</td>\n",
       "      <td>0.439977</td>\n",
       "      <td>0.472384</td>\n",
       "    </tr>\n",
       "    <tr>\n",
       "      <th>gpt-3.5-zeroshot</th>\n",
       "      <td>0.340762</td>\n",
       "      <td>0.115463</td>\n",
       "      <td>0.240208</td>\n",
       "      <td>0.240577</td>\n",
       "      <td>0.517868</td>\n",
       "      <td>0.434567</td>\n",
       "      <td>0.474195</td>\n",
       "    </tr>\n",
       "    <tr>\n",
       "      <th>gpt-3.5-text-embedding-3-large-flatL2</th>\n",
       "      <td>0.363608</td>\n",
       "      <td>0.107298</td>\n",
       "      <td>0.227588</td>\n",
       "      <td>0.225737</td>\n",
       "      <td>0.515668</td>\n",
       "      <td>0.469805</td>\n",
       "      <td>0.492949</td>\n",
       "    </tr>\n",
       "    <tr>\n",
       "      <th>gpt-3.5-text-embedding-3-large-dotP</th>\n",
       "      <td>0.349821</td>\n",
       "      <td>0.137013</td>\n",
       "      <td>0.242614</td>\n",
       "      <td>0.241717</td>\n",
       "      <td>0.525251</td>\n",
       "      <td>0.462892</td>\n",
       "      <td>0.493735</td>\n",
       "    </tr>\n",
       "    <tr>\n",
       "      <th>gpt-4o-zeroshot</th>\n",
       "      <td>0.384214</td>\n",
       "      <td>0.131149</td>\n",
       "      <td>0.252393</td>\n",
       "      <td>0.251839</td>\n",
       "      <td>0.514667</td>\n",
       "      <td>0.488124</td>\n",
       "      <td>0.501534</td>\n",
       "    </tr>\n",
       "  </tbody>\n",
       "</table>\n",
       "</div>"
      ],
      "text/plain": [
       "                                         rouge1    rouge2    rougeL  \\\n",
       "gpt-3.5-biosimcse-biolinkbert-dotP     0.267100  0.065513  0.149284   \n",
       "gpt-3.5-biosimcse-biolinkbert-flatL2   0.282073  0.072719  0.184092   \n",
       "gpt-3.5-bmretriever-dotP               0.293239  0.076235  0.184981   \n",
       "gpt-3.5-text-embedding-3-small-dotP    0.317602  0.067391  0.191126   \n",
       "gpt-3.5-text-embedding-3-small-flatL2  0.308695  0.071900  0.194732   \n",
       "gpt-3.5-bmretriever-flatL2             0.334835  0.114497  0.223392   \n",
       "gpt-3.5-zeroshot                       0.340762  0.115463  0.240208   \n",
       "gpt-3.5-text-embedding-3-large-flatL2  0.363608  0.107298  0.227588   \n",
       "gpt-3.5-text-embedding-3-large-dotP    0.349821  0.137013  0.242614   \n",
       "gpt-4o-zeroshot                        0.384214  0.131149  0.252393   \n",
       "\n",
       "                                       rougeLsum  bertscore_precision  \\\n",
       "gpt-3.5-biosimcse-biolinkbert-dotP      0.149048             0.437181   \n",
       "gpt-3.5-biosimcse-biolinkbert-flatL2    0.183736             0.462633   \n",
       "gpt-3.5-bmretriever-dotP                0.183930             0.457635   \n",
       "gpt-3.5-text-embedding-3-small-dotP     0.191617             0.463448   \n",
       "gpt-3.5-text-embedding-3-small-flatL2   0.194814             0.468700   \n",
       "gpt-3.5-bmretriever-flatL2              0.223651             0.506406   \n",
       "gpt-3.5-zeroshot                        0.240577             0.517868   \n",
       "gpt-3.5-text-embedding-3-large-flatL2   0.225737             0.515668   \n",
       "gpt-3.5-text-embedding-3-large-dotP     0.241717             0.525251   \n",
       "gpt-4o-zeroshot                         0.251839             0.514667   \n",
       "\n",
       "                                       bertscore_recall  bertscore_f1  \n",
       "gpt-3.5-biosimcse-biolinkbert-dotP             0.372358      0.404552  \n",
       "gpt-3.5-biosimcse-biolinkbert-flatL2           0.364840      0.411634  \n",
       "gpt-3.5-bmretriever-dotP                       0.417386      0.438152  \n",
       "gpt-3.5-text-embedding-3-small-dotP            0.422623      0.443753  \n",
       "gpt-3.5-text-embedding-3-small-flatL2          0.425654      0.447648  \n",
       "gpt-3.5-bmretriever-flatL2                     0.439977      0.472384  \n",
       "gpt-3.5-zeroshot                               0.434567      0.474195  \n",
       "gpt-3.5-text-embedding-3-large-flatL2          0.469805      0.492949  \n",
       "gpt-3.5-text-embedding-3-large-dotP            0.462892      0.493735  \n",
       "gpt-4o-zeroshot                                0.488124      0.501534  "
      ]
     },
     "execution_count": 61,
     "metadata": {},
     "output_type": "execute_result"
    }
   ],
   "source": [
    "# View performance\n",
    "df = pd.DataFrame(STORE).transpose()\n",
    "df.sort_values('bertscore_f1')"
   ]
  },
  {
   "cell_type": "code",
   "execution_count": 151,
   "metadata": {},
   "outputs": [],
   "source": [
    "# Function to plot performance as barh graph\n",
    "\n",
    "def plot_results(df, keys, baseline='gpt-4o-zeroshot', figsize=(4.5,3), truncate_ticks=0):\n",
    "    \n",
    "    # Get data for plotting\n",
    "    dfsel = df.loc[keys, 'bertscore_f1'].sort_values()\n",
    "    y = dfsel.values\n",
    "    y0 = df.loc[baseline, 'bertscore_f1'] # Zeroshot baseline\n",
    "    xticks = dfsel.index\n",
    "\n",
    "    # Truncate name\n",
    "    if truncate_ticks > 0:\n",
    "        xticks = ['-'.join(item.split('-')[truncate_ticks:]) for item in xticks]\n",
    "\n",
    "    # Plot bar graph\n",
    "    plt.figure(figsize=figsize)\n",
    "    plt.barh(range(len(y)), y)\n",
    "    plt.yticks(range(len(y)), xticks);\n",
    "    plt.axvline(y0, linestyle='--', color='black', label='gpt-4o (ZS)');\n",
    "    plt.xlabel('BERTScore (F1)');\n",
    "\n",
    "    # Annotate each bar with its value\n",
    "    for i, val in enumerate(y):\n",
    "        plt.text(val + 0.002, i, f'{val:.3f}', va='center', fontsize=8)\n",
    "\n",
    "    # Annotate the vertical line\n",
    "    plt.text(y0 + 0.002, -0.5, f'{y0:.3f}', rotation=0, va='bottom', ha='left', fontsize=8, color='black')\n",
    "    plt.xlim((0.35, 0.55));\n"
   ]
  },
  {
   "cell_type": "code",
   "execution_count": 152,
   "metadata": {},
   "outputs": [
    {
     "data": {
      "image/png": "[encoded data removed]",
      "text/plain": [
       "<Figure size 450x300 with 1 Axes>"
      ]
     },
     "metadata": {},
     "output_type": "display_data"
    }
   ],
   "source": [
    "# Visualize performance as bar graph\n",
    "keys = [item for item in df.index if 'zeroshot' not in item] # Exclude zeroshot baselines\n",
    "plot_results(df, keys, truncate_ticks=2)"
   ]
  },
  {
   "cell_type": "markdown",
   "metadata": {},
   "source": [
    "**Open AI's *text-embedding-3-large* is the best embedding model. There's no significant difference between using dot product and L2 distance with the 3-large model**"
   ]
  },
  {
   "cell_type": "markdown",
   "metadata": {},
   "source": [
    "## Optimize number of documents (`k`)"
   ]
  },
  {
   "cell_type": "code",
   "execution_count": 84,
   "metadata": {},
   "outputs": [
    {
     "name": "stderr",
     "output_type": "stream",
     "text": [
      "  0%|          | 0/6 [00:00<?, ?it/s]"
     ]
    },
    {
     "name": "stderr",
     "output_type": "stream",
     "text": [
      "100%|██████████| 6/6 [01:35<00:00, 15.97s/it]\n"
     ]
    }
   ],
   "source": [
    "# Rerun RAG with varying values of k (using 3-large and dotP)\n",
    "\n",
    "ks = [1, 3, 5, 10, 15, 20]\n",
    "embedding_name = 'text-embedding-3-large'\n",
    "embedding = OpenAIEmbeddings(model=embedding_name, show_progress_bar=False)            \n",
    "\n",
    "# Run rag\n",
    "for k in tqdm(ks):\n",
    "    answers, results = evaluate_rag_model(\n",
    "        model_name='gpt-3.5-turbo', # Generative model\n",
    "        vectorstore_path=f'data/vector-stores/{embedding_name}-dotP',\n",
    "        embedding=embedding,\n",
    "        questions=valdata['QUESTIONS'].tolist(),\n",
    "        references=valdata['ANSWERS'].tolist(),\n",
    "        rag_k=k, \n",
    "        temperature=0, \n",
    "        top_p=1\n",
    "        )\n",
    "    answers = [item.split('Answer: ')[-1] for item in answers]\n",
    "\n",
    "    # Save answers\n",
    "    with open(f\"data/responses/gpt-3.5-{embedding_name}-k{k}.txt\", 'w') as f:\n",
    "        for item in answers:\n",
    "            f.write(item + '\\n')    \n",
    "\n",
    "    # Store results\n",
    "    STORE[f\"gpt-3.5-{embedding_name}-k{k}\"] = results"
   ]
  },
  {
   "cell_type": "code",
   "execution_count": 154,
   "metadata": {},
   "outputs": [
    {
     "data": {
      "image/png": "[encoded data removed]",
      "text/plain": [
       "<Figure size 450x300 with 1 Axes>"
      ]
     },
     "metadata": {},
     "output_type": "display_data"
    }
   ],
   "source": [
    "# Visualize performance\n",
    "df = pd.DataFrame(STORE).transpose()\n",
    "df.sort_values('bertscore_f1', ascending=False)\n",
    "keys = [item for item in df.index if '-k' in item]\n",
    "plot_results(df, keys, truncate_ticks=4)"
   ]
  },
  {
   "cell_type": "markdown",
   "metadata": {},
   "source": [
    "**Using 15 or 20 documents outperform the GPT-4o zero-shot baseline, with `k=15` being the optimal value.**"
   ]
  },
  {
   "cell_type": "markdown",
   "metadata": {},
   "source": [
    "## Optimize sampling parameters"
   ]
  },
  {
   "cell_type": "code",
   "execution_count": 161,
   "metadata": {},
   "outputs": [
    {
     "name": "stderr",
     "output_type": "stream",
     "text": [
      "  0%|          | 0/6 [00:00<?, ?it/s]"
     ]
    },
    {
     "name": "stderr",
     "output_type": "stream",
     "text": [
      "100%|██████████| 6/6 [07:16<00:00, 72.70s/it]\n"
     ]
    }
   ],
   "source": [
    "# Optimize top_p and temperature with grid search\n",
    "\n",
    "embedding_name = 'text-embedding-3-large'\n",
    "embedding = OpenAIEmbeddings(model=embedding_name, show_progress_bar=False)            \n",
    "temperatures = [0.1, 0.25, 0.5, 0.75, 1.0, 1.25]\n",
    "top_ps = [0.25, 0.5, 0.75, 1.0]\n",
    "k = 15 # Use optimal k=15\n",
    "\n",
    "for t in tqdm(temperatures):\n",
    "    for p in top_ps:\n",
    "        # Run rag with hyperparameters\n",
    "        answers, results = evaluate_rag_model(\n",
    "            model_name='gpt-3.5-turbo', # Generative model\n",
    "            vectorstore_path=f'data/vector-stores/{embedding_name}-dotP',\n",
    "            embedding=embedding,\n",
    "            questions=valdata['QUESTIONS'].tolist(),\n",
    "            references=valdata['ANSWERS'].tolist(),\n",
    "            rag_k=k, \n",
    "            temperature=t, \n",
    "            top_p=p\n",
    "            )\n",
    "        answers = [item.split('Answer: ')[-1] for item in answers]\n",
    "\n",
    "        # Save answers\n",
    "        with open(f\"data/responses/gpt-3.5-{embedding_name}-p{p}-t{t}.txt\", 'w') as f:\n",
    "            for item in answers:\n",
    "                f.write(item + '\\n')    \n",
    "\n",
    "        # Store results\n",
    "        STORE[f\"gpt-3.5-{embedding_name}-p{p}-t{t}\"] = results        "
   ]
  },
  {
   "cell_type": "code",
   "execution_count": 163,
   "metadata": {},
   "outputs": [
    {
     "data": {
      "image/png": "[encoded data removed]",
      "text/plain": [
       "<Figure size 450x550 with 1 Axes>"
      ]
     },
     "metadata": {},
     "output_type": "display_data"
    }
   ],
   "source": [
    "# Visualize performance\n",
    "df = pd.DataFrame(STORE).transpose()\n",
    "df.sort_values('bertscore_f1', ascending=False)\n",
    "keys = [item for item in df.index if '-p' in item and '-t' in item]\n",
    "plot_results(df, keys, figsize=(4.5,5.5), truncate_ticks=4)"
   ]
  },
  {
   "cell_type": "code",
   "execution_count": 164,
   "metadata": {},
   "outputs": [
    {
     "data": {
      "image/png": "[encoded data removed]",
      "text/plain": [
       "<Figure size 640x480 with 1 Axes>"
      ]
     },
     "metadata": {},
     "output_type": "display_data"
    }
   ],
   "source": [
    "# Visualize as a heat map\n",
    "dfheat = pd.DataFrame(index=top_ps, columns=temperatures, dtype=float)\n",
    "for item in keys:\n",
    "    y = df.loc[item, 'bertscore_f1']\n",
    "    x = item.split('-')[-2:]\n",
    "    p, t = float(x[0][1:]), float(x[1][1:])\n",
    "    dfheat.loc[p,t] = y\n",
    "sns.heatmap(dfheat.values, annot=True, fmt='.3f', cmap='Purples', cbar=False,\n",
    "            xticklabels=dfheat.columns, yticklabels=dfheat.index)\n",
    "plt.xlabel('Temperature');\n",
    "plt.ylabel('Top-P (Nuclues Sampling)');    \n"
   ]
  },
  {
   "cell_type": "code",
   "execution_count": 168,
   "metadata": {},
   "outputs": [
    {
     "data": {
      "text/html": [
       "<div>\n",
       "<style scoped>\n",
       "    .dataframe tbody tr th:only-of-type {\n",
       "        vertical-align: middle;\n",
       "    }\n",
       "\n",
       "    .dataframe tbody tr th {\n",
       "        vertical-align: top;\n",
       "    }\n",
       "\n",
       "    .dataframe thead th {\n",
       "        text-align: right;\n",
       "    }\n",
       "</style>\n",
       "<table border=\"1\" class=\"dataframe\">\n",
       "  <thead>\n",
       "    <tr style=\"text-align: right;\">\n",
       "      <th></th>\n",
       "      <th>rouge1</th>\n",
       "      <th>rouge2</th>\n",
       "      <th>rougeL</th>\n",
       "      <th>rougeLsum</th>\n",
       "      <th>bertscore_precision</th>\n",
       "      <th>bertscore_recall</th>\n",
       "      <th>bertscore_f1</th>\n",
       "    </tr>\n",
       "  </thead>\n",
       "  <tbody>\n",
       "    <tr>\n",
       "      <th>gpt-3.5-text-embedding-3-large-p1.0-t0.25</th>\n",
       "      <td>0.391409</td>\n",
       "      <td>0.128203</td>\n",
       "      <td>0.247432</td>\n",
       "      <td>0.246460</td>\n",
       "      <td>0.543586</td>\n",
       "      <td>0.500451</td>\n",
       "      <td>0.522129</td>\n",
       "    </tr>\n",
       "    <tr>\n",
       "      <th>gpt-4o-zeroshot</th>\n",
       "      <td>0.384214</td>\n",
       "      <td>0.131149</td>\n",
       "      <td>0.252393</td>\n",
       "      <td>0.251839</td>\n",
       "      <td>0.514667</td>\n",
       "      <td>0.488124</td>\n",
       "      <td>0.501534</td>\n",
       "    </tr>\n",
       "    <tr>\n",
       "      <th>gpt-3.5-zeroshot</th>\n",
       "      <td>0.340762</td>\n",
       "      <td>0.115463</td>\n",
       "      <td>0.240208</td>\n",
       "      <td>0.240577</td>\n",
       "      <td>0.517868</td>\n",
       "      <td>0.434567</td>\n",
       "      <td>0.474195</td>\n",
       "    </tr>\n",
       "  </tbody>\n",
       "</table>\n",
       "</div>"
      ],
      "text/plain": [
       "                                             rouge1    rouge2    rougeL  \\\n",
       "gpt-3.5-text-embedding-3-large-p1.0-t0.25  0.391409  0.128203  0.247432   \n",
       "gpt-4o-zeroshot                            0.384214  0.131149  0.252393   \n",
       "gpt-3.5-zeroshot                           0.340762  0.115463  0.240208   \n",
       "\n",
       "                                           rougeLsum  bertscore_precision  \\\n",
       "gpt-3.5-text-embedding-3-large-p1.0-t0.25   0.246460             0.543586   \n",
       "gpt-4o-zeroshot                             0.251839             0.514667   \n",
       "gpt-3.5-zeroshot                            0.240577             0.517868   \n",
       "\n",
       "                                           bertscore_recall  bertscore_f1  \n",
       "gpt-3.5-text-embedding-3-large-p1.0-t0.25          0.500451      0.522129  \n",
       "gpt-4o-zeroshot                                    0.488124      0.501534  \n",
       "gpt-3.5-zeroshot                                   0.434567      0.474195  "
      ]
     },
     "execution_count": 168,
     "metadata": {},
     "output_type": "execute_result"
    }
   ],
   "source": [
    "# Compare top performing with zeroshot\n",
    "df = df.sort_values('bertscore_f1', ascending=False)\n",
    "keys = [df.index[0]] + [item for item in df.index if 'zeroshot' in item]\n",
    "df.loc[keys,:]"
   ]
  }
 ],
 "metadata": {
  "kernelspec": {
   "display_name": "Python 3",
   "language": "python",
   "name": "python3"
  },
  "language_info": {
   "codemirror_mode": {
    "name": "ipython",
    "version": 3
   },
   "file_extension": ".py",
   "mimetype": "text/x-python",
   "name": "python",
   "nbconvert_exporter": "python",
   "pygments_lexer": "ipython3",
   "version": "3.10.18"
  }
 },
 "nbformat": 4,
 "nbformat_minor": 2
}
